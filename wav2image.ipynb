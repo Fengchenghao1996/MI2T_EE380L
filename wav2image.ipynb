{
 "cells": [
  {
   "cell_type": "code",
   "execution_count": 3,
   "metadata": {
    "scrolled": true
   },
   "outputs": [
    {
     "name": "stdout",
     "output_type": "stream",
     "text": [
      "['cel', 'cla', 'flu', 'gac', 'gel', 'org', 'pia', 'sax', 'tru', 'vio', 'voi']\n",
      "0 : cel\n"
     ]
    },
    {
     "name": "stderr",
     "output_type": "stream",
     "text": [
      "C:\\Users\\lwcbo\\Anaconda3\\lib\\site-packages\\ipykernel_launcher.py:20: MatplotlibDeprecationWarning: Adding an axes using the same arguments as a previous axes currently reuses the earlier instance.  In a future version, a new instance will always be created and returned.  Meanwhile, this warning can be suppressed, and the future behavior ensured, by passing a unique label to each axes instance.\n"
     ]
    },
    {
     "name": "stdout",
     "output_type": "stream",
     "text": [
      "1 : cla\n",
      "2 : flu\n",
      "3 : gac\n",
      "4 : gel\n",
      "5 : org\n",
      "6 : pia\n",
      "7 : sax\n",
      "8 : tru\n",
      "9 : vio\n",
      "10 : voi\n"
     ]
    }
   ],
   "source": [
    "import os\n",
    "import wave\n",
    "import matplotlib.pyplot as plt\n",
    "import pylab\n",
    "from pydub import AudioSegment\n",
    "import numpy as np\n",
    "from scipy import signal\n",
    "import matplotlib.pyplot as plt\n",
    "\n",
    "fs=44100\n",
    "t1 = int(0.1*44100) \n",
    "t2 = int(t1+1.9*44100)   #截取1.9s\n",
    "\n",
    "\n",
    "def graph_spectrogram(wav_file, out_path,t1,t2):\n",
    "    sound_info, frame_rate = get_wav_info(wav_file)\n",
    "    sound_info=sound_info[t1:t2]\n",
    "    fig = plt.figure(num=None, figsize=(4, 4))\n",
    "    plt.axes().set_axis_off()\n",
    "    plt.subplot(111)\n",
    "    #pylab.title('spectrogram of %r' % wav_file)\n",
    "    plt.specgram(sound_info, Fs=frame_rate,NFFT=4096)\n",
    "    plt.savefig(out_path)\n",
    "    plt.close(fig)\n",
    "    \n",
    "def get_wav_info(wav_file):\n",
    "    wav = wave.open(wav_file, 'r')\n",
    "    frames = wav.readframes(-1)\n",
    "    sound_info = pylab.frombuffer(frames, 'int16')\n",
    "    frame_rate = wav.getframerate()\n",
    "    wav.close()\n",
    "    return sound_info, frame_rate\n",
    "\n",
    "\n",
    "\n",
    "audio_path = './raw/'\n",
    "test_pict_path = './input/'\n",
    "samples = []\n",
    "\n",
    "subFolderList = []\n",
    "for x in os.listdir(audio_path):\n",
    "    if os.path.isdir(audio_path + '/' + x):\n",
    "        subFolderList.append(x)\n",
    "print(subFolderList)\n",
    "\n",
    "\n",
    "for i, x in enumerate(subFolderList):\n",
    "    print(i, ':', x)\n",
    "    all_files = [y for y in os.listdir(audio_path + x) if '.wav' in y]\n",
    "    #print(all_files)\n",
    "    for j, file in enumerate(all_files):\n",
    "        #print(audio_path + x + '/' + file, test_audio_path + file)\n",
    "        name = file.replace('.wav', '')\n",
    "        graph_spectrogram(audio_path + x + '/' + file, test_pict_path + x + '/' + name + '.png',t1,t2)\n",
    "        \n"
   ]
  },
  {
   "cell_type": "code",
   "execution_count": null,
   "metadata": {},
   "outputs": [],
   "source": []
  },
  {
   "cell_type": "code",
   "execution_count": null,
   "metadata": {},
   "outputs": [],
   "source": []
  }
 ],
 "metadata": {
  "kernelspec": {
   "display_name": "Python 3",
   "language": "python",
   "name": "python3"
  },
  "language_info": {
   "codemirror_mode": {
    "name": "ipython",
    "version": 3
   },
   "file_extension": ".py",
   "mimetype": "text/x-python",
   "name": "python",
   "nbconvert_exporter": "python",
   "pygments_lexer": "ipython3",
   "version": "3.7.1"
  }
 },
 "nbformat": 4,
 "nbformat_minor": 4
}
