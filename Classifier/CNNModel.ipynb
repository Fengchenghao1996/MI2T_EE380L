{
 "cells": [
  {
   "cell_type": "code",
   "execution_count": 2,
   "metadata": {},
   "outputs": [],
   "source": [
    "import keras\n",
    "import numpy as np\n",
    "import pandas as pd\n",
    "import matplotlib.pyplot as plt\n",
    "from keras.models import Sequential\n",
    "from keras.applications.vgg16 import VGG16\n",
    "from keras.layers import Dense, InputLayer, Dropout, Flatten\n",
    "from keras.layers import Conv2D, MaxPooling2D, GlobalMaxPooling2D\n",
    "from keras.preprocessing import image\n",
    "from sklearn.model_selection import train_test_split\n",
    "from tqdm import tqdm"
   ]
  },
  {
   "cell_type": "code",
   "execution_count": 5,
   "metadata": {},
   "outputs": [
    {
     "data": {
      "text/html": [
       "<div>\n",
       "<style scoped>\n",
       "    .dataframe tbody tr th:only-of-type {\n",
       "        vertical-align: middle;\n",
       "    }\n",
       "\n",
       "    .dataframe tbody tr th {\n",
       "        vertical-align: top;\n",
       "    }\n",
       "\n",
       "    .dataframe thead th {\n",
       "        text-align: right;\n",
       "    }\n",
       "</style>\n",
       "<table border=\"1\" class=\"dataframe\">\n",
       "  <thead>\n",
       "    <tr style=\"text-align: right;\">\n",
       "      <th></th>\n",
       "      <th>image</th>\n",
       "      <th>label</th>\n",
       "    </tr>\n",
       "  </thead>\n",
       "  <tbody>\n",
       "    <tr>\n",
       "      <th>0</th>\n",
       "      <td>Dataset/2_241_gel.wav.png</td>\n",
       "      <td>gel</td>\n",
       "    </tr>\n",
       "    <tr>\n",
       "      <th>1</th>\n",
       "      <td>Dataset/2_580_voi.wav.png</td>\n",
       "      <td>voi</td>\n",
       "    </tr>\n",
       "    <tr>\n",
       "      <th>2</th>\n",
       "      <td>Dataset/0_214_pia_sax.wav.png</td>\n",
       "      <td>pia</td>\n",
       "    </tr>\n",
       "    <tr>\n",
       "      <th>3</th>\n",
       "      <td>Dataset/0_198_voi.wav.png</td>\n",
       "      <td>voi</td>\n",
       "    </tr>\n",
       "    <tr>\n",
       "      <th>4</th>\n",
       "      <td>Dataset/0_144_gel_voi.wav.png</td>\n",
       "      <td>gel</td>\n",
       "    </tr>\n",
       "  </tbody>\n",
       "</table>\n",
       "</div>"
      ],
      "text/plain": [
       "                           image label\n",
       "0      Dataset/2_241_gel.wav.png   gel\n",
       "1      Dataset/2_580_voi.wav.png   voi\n",
       "2  Dataset/0_214_pia_sax.wav.png   pia\n",
       "3      Dataset/0_198_voi.wav.png   voi\n",
       "4  Dataset/0_144_gel_voi.wav.png   gel"
      ]
     },
     "execution_count": 5,
     "metadata": {},
     "output_type": "execute_result"
    }
   ],
   "source": [
    "data = pd.read_csv('dataset.csv')\n",
    "data.head()"
   ]
  },
  {
   "cell_type": "code",
   "execution_count": 15,
   "metadata": {},
   "outputs": [],
   "source": [
    "train_im = data['image'][:1200]\n",
    "test_im = data['image'][1200:]\n",
    "train_y = data['label'][:1200]\n",
    "test_y = data['label'][1200:]"
   ]
  },
  {
   "cell_type": "code",
   "execution_count": 16,
   "metadata": {},
   "outputs": [],
   "source": [
    "train = pd.DataFrame()\n",
    "test = pd.DataFrame()\n",
    "train['image'] = train_im\n",
    "test['image'] = test_im\n",
    "train['label'] = train_y\n",
    "test['label'] = test_y"
   ]
  },
  {
   "cell_type": "code",
   "execution_count": 40,
   "metadata": {},
   "outputs": [],
   "source": [
    "train.to_csv('training.csv', header=True, index = False)\n",
    "test.to_csv('testing.csv', header = True, index = False)"
   ]
  },
  {
   "cell_type": "code",
   "execution_count": 43,
   "metadata": {},
   "outputs": [
    {
     "name": "stderr",
     "output_type": "stream",
     "text": [
      "100%|██████████| 1200/1200 [00:02<00:00, 561.49it/s]\n"
     ]
    }
   ],
   "source": [
    "train_images = []\n",
    "for i in tqdm(range(1200)):\n",
    "    im = image.load_img(train['image'][i], target_size = (224, 224))\n",
    "    im = image.img_to_array(im)\n",
    "    im = im/255\n",
    "    train_images.append(im)"
   ]
  },
  {
   "cell_type": "code",
   "execution_count": 44,
   "metadata": {},
   "outputs": [],
   "source": [
    "X = np.array(train_images)"
   ]
  },
  {
   "cell_type": "code",
   "execution_count": 45,
   "metadata": {},
   "outputs": [],
   "source": [
    "y = train['label']"
   ]
  },
  {
   "cell_type": "code",
   "execution_count": 46,
   "metadata": {},
   "outputs": [
    {
     "data": {
      "text/plain": [
       "(1200,)"
      ]
     },
     "execution_count": 46,
     "metadata": {},
     "output_type": "execute_result"
    }
   ],
   "source": [
    "y.shape"
   ]
  },
  {
   "cell_type": "code",
   "execution_count": 47,
   "metadata": {},
   "outputs": [],
   "source": [
    "X_train, X_test,y_train, y_test = train_test_split(X, y, random_state = 42, test_size = 0.2, stratify = y) "
   ]
  },
  {
   "cell_type": "code",
   "execution_count": 48,
   "metadata": {},
   "outputs": [
    {
     "data": {
      "text/plain": [
       "(1200, 224, 224, 3)"
      ]
     },
     "execution_count": 48,
     "metadata": {},
     "output_type": "execute_result"
    }
   ],
   "source": [
    "X.shape"
   ]
  },
  {
   "cell_type": "code",
   "execution_count": 49,
   "metadata": {},
   "outputs": [
    {
     "data": {
      "text/plain": [
       "(1200,)"
      ]
     },
     "execution_count": 49,
     "metadata": {},
     "output_type": "execute_result"
    }
   ],
   "source": [
    "y.shape"
   ]
  },
  {
   "cell_type": "code",
   "execution_count": 50,
   "metadata": {},
   "outputs": [],
   "source": [
    "y_train = pd.get_dummies(y_train)\n",
    "y_test = pd.get_dummies(y_test)"
   ]
  },
  {
   "cell_type": "code",
   "execution_count": 51,
   "metadata": {},
   "outputs": [
    {
     "data": {
      "text/plain": [
       "(960, 11)"
      ]
     },
     "execution_count": 51,
     "metadata": {},
     "output_type": "execute_result"
    }
   ],
   "source": [
    "y_train.shape"
   ]
  },
  {
   "cell_type": "code",
   "execution_count": 52,
   "metadata": {},
   "outputs": [
    {
     "data": {
      "text/html": [
       "<div>\n",
       "<style scoped>\n",
       "    .dataframe tbody tr th:only-of-type {\n",
       "        vertical-align: middle;\n",
       "    }\n",
       "\n",
       "    .dataframe tbody tr th {\n",
       "        vertical-align: top;\n",
       "    }\n",
       "\n",
       "    .dataframe thead th {\n",
       "        text-align: right;\n",
       "    }\n",
       "</style>\n",
       "<table border=\"1\" class=\"dataframe\">\n",
       "  <thead>\n",
       "    <tr style=\"text-align: right;\">\n",
       "      <th></th>\n",
       "      <th>cel</th>\n",
       "      <th>cla</th>\n",
       "      <th>flu</th>\n",
       "      <th>gac</th>\n",
       "      <th>gel</th>\n",
       "      <th>org</th>\n",
       "      <th>pia</th>\n",
       "      <th>sax</th>\n",
       "      <th>tru</th>\n",
       "      <th>vio</th>\n",
       "      <th>voi</th>\n",
       "    </tr>\n",
       "  </thead>\n",
       "  <tbody>\n",
       "    <tr>\n",
       "      <th>456</th>\n",
       "      <td>0</td>\n",
       "      <td>0</td>\n",
       "      <td>0</td>\n",
       "      <td>0</td>\n",
       "      <td>0</td>\n",
       "      <td>0</td>\n",
       "      <td>0</td>\n",
       "      <td>0</td>\n",
       "      <td>0</td>\n",
       "      <td>0</td>\n",
       "      <td>1</td>\n",
       "    </tr>\n",
       "    <tr>\n",
       "      <th>987</th>\n",
       "      <td>0</td>\n",
       "      <td>0</td>\n",
       "      <td>0</td>\n",
       "      <td>0</td>\n",
       "      <td>1</td>\n",
       "      <td>0</td>\n",
       "      <td>0</td>\n",
       "      <td>0</td>\n",
       "      <td>0</td>\n",
       "      <td>0</td>\n",
       "      <td>0</td>\n",
       "    </tr>\n",
       "    <tr>\n",
       "      <th>461</th>\n",
       "      <td>0</td>\n",
       "      <td>0</td>\n",
       "      <td>0</td>\n",
       "      <td>0</td>\n",
       "      <td>1</td>\n",
       "      <td>0</td>\n",
       "      <td>0</td>\n",
       "      <td>0</td>\n",
       "      <td>0</td>\n",
       "      <td>0</td>\n",
       "      <td>0</td>\n",
       "    </tr>\n",
       "    <tr>\n",
       "      <th>1153</th>\n",
       "      <td>0</td>\n",
       "      <td>0</td>\n",
       "      <td>0</td>\n",
       "      <td>1</td>\n",
       "      <td>0</td>\n",
       "      <td>0</td>\n",
       "      <td>0</td>\n",
       "      <td>0</td>\n",
       "      <td>0</td>\n",
       "      <td>0</td>\n",
       "      <td>0</td>\n",
       "    </tr>\n",
       "    <tr>\n",
       "      <th>1022</th>\n",
       "      <td>0</td>\n",
       "      <td>0</td>\n",
       "      <td>0</td>\n",
       "      <td>0</td>\n",
       "      <td>0</td>\n",
       "      <td>1</td>\n",
       "      <td>0</td>\n",
       "      <td>0</td>\n",
       "      <td>0</td>\n",
       "      <td>0</td>\n",
       "      <td>0</td>\n",
       "    </tr>\n",
       "    <tr>\n",
       "      <th>...</th>\n",
       "      <td>...</td>\n",
       "      <td>...</td>\n",
       "      <td>...</td>\n",
       "      <td>...</td>\n",
       "      <td>...</td>\n",
       "      <td>...</td>\n",
       "      <td>...</td>\n",
       "      <td>...</td>\n",
       "      <td>...</td>\n",
       "      <td>...</td>\n",
       "      <td>...</td>\n",
       "    </tr>\n",
       "    <tr>\n",
       "      <th>1</th>\n",
       "      <td>0</td>\n",
       "      <td>0</td>\n",
       "      <td>0</td>\n",
       "      <td>0</td>\n",
       "      <td>0</td>\n",
       "      <td>0</td>\n",
       "      <td>0</td>\n",
       "      <td>0</td>\n",
       "      <td>0</td>\n",
       "      <td>0</td>\n",
       "      <td>1</td>\n",
       "    </tr>\n",
       "    <tr>\n",
       "      <th>806</th>\n",
       "      <td>0</td>\n",
       "      <td>0</td>\n",
       "      <td>0</td>\n",
       "      <td>0</td>\n",
       "      <td>0</td>\n",
       "      <td>0</td>\n",
       "      <td>0</td>\n",
       "      <td>0</td>\n",
       "      <td>0</td>\n",
       "      <td>0</td>\n",
       "      <td>1</td>\n",
       "    </tr>\n",
       "    <tr>\n",
       "      <th>877</th>\n",
       "      <td>0</td>\n",
       "      <td>0</td>\n",
       "      <td>0</td>\n",
       "      <td>0</td>\n",
       "      <td>1</td>\n",
       "      <td>0</td>\n",
       "      <td>0</td>\n",
       "      <td>0</td>\n",
       "      <td>0</td>\n",
       "      <td>0</td>\n",
       "      <td>0</td>\n",
       "    </tr>\n",
       "    <tr>\n",
       "      <th>496</th>\n",
       "      <td>0</td>\n",
       "      <td>0</td>\n",
       "      <td>0</td>\n",
       "      <td>1</td>\n",
       "      <td>0</td>\n",
       "      <td>0</td>\n",
       "      <td>0</td>\n",
       "      <td>0</td>\n",
       "      <td>0</td>\n",
       "      <td>0</td>\n",
       "      <td>0</td>\n",
       "    </tr>\n",
       "    <tr>\n",
       "      <th>1047</th>\n",
       "      <td>0</td>\n",
       "      <td>0</td>\n",
       "      <td>0</td>\n",
       "      <td>1</td>\n",
       "      <td>0</td>\n",
       "      <td>0</td>\n",
       "      <td>0</td>\n",
       "      <td>0</td>\n",
       "      <td>0</td>\n",
       "      <td>0</td>\n",
       "      <td>0</td>\n",
       "    </tr>\n",
       "  </tbody>\n",
       "</table>\n",
       "<p>960 rows × 11 columns</p>\n",
       "</div>"
      ],
      "text/plain": [
       "      cel  cla  flu  gac  gel  org  pia  sax  tru  vio  voi\n",
       "456     0    0    0    0    0    0    0    0    0    0    1\n",
       "987     0    0    0    0    1    0    0    0    0    0    0\n",
       "461     0    0    0    0    1    0    0    0    0    0    0\n",
       "1153    0    0    0    1    0    0    0    0    0    0    0\n",
       "1022    0    0    0    0    0    1    0    0    0    0    0\n",
       "...   ...  ...  ...  ...  ...  ...  ...  ...  ...  ...  ...\n",
       "1       0    0    0    0    0    0    0    0    0    0    1\n",
       "806     0    0    0    0    0    0    0    0    0    0    1\n",
       "877     0    0    0    0    1    0    0    0    0    0    0\n",
       "496     0    0    0    1    0    0    0    0    0    0    0\n",
       "1047    0    0    0    1    0    0    0    0    0    0    0\n",
       "\n",
       "[960 rows x 11 columns]"
      ]
     },
     "execution_count": 52,
     "metadata": {},
     "output_type": "execute_result"
    }
   ],
   "source": [
    "y_train"
   ]
  },
  {
   "cell_type": "code",
   "execution_count": 53,
   "metadata": {},
   "outputs": [],
   "source": [
    "basemodel = VGG16(weights = 'imagenet', include_top = False)"
   ]
  },
  {
   "cell_type": "code",
   "execution_count": 54,
   "metadata": {},
   "outputs": [],
   "source": [
    "X_train = basemodel.predict(X_train)"
   ]
  },
  {
   "cell_type": "code",
   "execution_count": 55,
   "metadata": {},
   "outputs": [
    {
     "data": {
      "text/plain": [
       "(960, 7, 7, 512)"
      ]
     },
     "execution_count": 55,
     "metadata": {},
     "output_type": "execute_result"
    }
   ],
   "source": [
    "X_train.shape"
   ]
  },
  {
   "cell_type": "code",
   "execution_count": 56,
   "metadata": {},
   "outputs": [],
   "source": [
    "X_test = basemodel.predict(X_test)"
   ]
  },
  {
   "cell_type": "code",
   "execution_count": 57,
   "metadata": {},
   "outputs": [
    {
     "data": {
      "text/plain": [
       "(240, 7, 7, 512)"
      ]
     },
     "execution_count": 57,
     "metadata": {},
     "output_type": "execute_result"
    }
   ],
   "source": [
    "X_test.shape"
   ]
  },
  {
   "cell_type": "code",
   "execution_count": 58,
   "metadata": {},
   "outputs": [],
   "source": [
    "X_train = X_train.reshape(960, 7*7*512)\n",
    "X_test = X_test.reshape(240, 7*7*512)"
   ]
  },
  {
   "cell_type": "code",
   "execution_count": 59,
   "metadata": {},
   "outputs": [],
   "source": [
    "maxi = X_train.max()\n",
    "X_train = X_train/maxi\n",
    "X_test = X_test/maxi"
   ]
  },
  {
   "cell_type": "code",
   "execution_count": 60,
   "metadata": {},
   "outputs": [
    {
     "data": {
      "text/plain": [
       "(960, 25088)"
      ]
     },
     "execution_count": 60,
     "metadata": {},
     "output_type": "execute_result"
    }
   ],
   "source": [
    "X_train.shape"
   ]
  },
  {
   "cell_type": "code",
   "execution_count": 61,
   "metadata": {},
   "outputs": [],
   "source": [
    "model = Sequential()\n",
    "model.add(Dense(1024, activation='relu', input_shape=(25088,)))\n",
    "model.add(Dropout(0.5))\n",
    "model.add(Dense(512, activation='relu'))\n",
    "model.add(Dropout(0.5))\n",
    "model.add(Dense(256, activation='relu'))\n",
    "model.add(Dropout(0.5))\n",
    "model.add(Dense(128, activation='relu'))\n",
    "model.add(Dropout(0.5))\n",
    "model.add(Dense(11, activation='softmax'))"
   ]
  },
  {
   "cell_type": "code",
   "execution_count": 62,
   "metadata": {},
   "outputs": [],
   "source": [
    "from keras.callbacks import ModelCheckpoint\n",
    "mcp_save = ModelCheckpoint('weight.hdf5', save_best_only=True, monitor='val_loss', mode='min')"
   ]
  },
  {
   "cell_type": "code",
   "execution_count": 63,
   "metadata": {},
   "outputs": [],
   "source": [
    "model.compile(loss='categorical_crossentropy',optimizer='Adam',metrics=['accuracy'])"
   ]
  },
  {
   "cell_type": "code",
   "execution_count": 64,
   "metadata": {},
   "outputs": [
    {
     "name": "stdout",
     "output_type": "stream",
     "text": [
      "Train on 960 samples, validate on 240 samples\n",
      "Epoch 1/100\n",
      "960/960 [==============================] - 1s 1ms/step - loss: 2.2031 - accuracy: 0.2427 - val_loss: 1.9809 - val_accuracy: 0.3292\n",
      "Epoch 2/100\n",
      "960/960 [==============================] - 1s 1ms/step - loss: 2.0180 - accuracy: 0.2958 - val_loss: 2.0382 - val_accuracy: 0.2500\n",
      "Epoch 3/100\n",
      "960/960 [==============================] - 1s 1ms/step - loss: 2.0087 - accuracy: 0.2750 - val_loss: 1.9922 - val_accuracy: 0.3292\n",
      "Epoch 4/100\n",
      "960/960 [==============================] - 1s 1ms/step - loss: 1.9429 - accuracy: 0.2917 - val_loss: 1.9753 - val_accuracy: 0.4250\n",
      "Epoch 5/100\n",
      "960/960 [==============================] - 1s 1ms/step - loss: 1.9146 - accuracy: 0.2823 - val_loss: 1.9279 - val_accuracy: 0.4083\n",
      "Epoch 6/100\n",
      "960/960 [==============================] - 1s 1ms/step - loss: 1.8890 - accuracy: 0.3094 - val_loss: 1.9000 - val_accuracy: 0.4292\n",
      "Epoch 7/100\n",
      "960/960 [==============================] - 1s 1ms/step - loss: 1.8993 - accuracy: 0.3063 - val_loss: 1.9543 - val_accuracy: 0.3833\n",
      "Epoch 8/100\n",
      "960/960 [==============================] - 1s 1ms/step - loss: 1.8877 - accuracy: 0.3167 - val_loss: 1.9287 - val_accuracy: 0.3500\n",
      "Epoch 9/100\n",
      "960/960 [==============================] - 1s 1ms/step - loss: 1.8646 - accuracy: 0.3104 - val_loss: 1.8568 - val_accuracy: 0.4167\n",
      "Epoch 10/100\n",
      "960/960 [==============================] - 1s 1ms/step - loss: 1.8471 - accuracy: 0.3490 - val_loss: 1.8403 - val_accuracy: 0.4167\n",
      "Epoch 11/100\n",
      "960/960 [==============================] - 1s 1ms/step - loss: 1.8390 - accuracy: 0.3167 - val_loss: 1.7784 - val_accuracy: 0.4542\n",
      "Epoch 12/100\n",
      "960/960 [==============================] - 1s 1ms/step - loss: 1.8225 - accuracy: 0.3302 - val_loss: 1.8327 - val_accuracy: 0.3958\n",
      "Epoch 13/100\n",
      "960/960 [==============================] - 1s 1ms/step - loss: 1.7920 - accuracy: 0.3469 - val_loss: 1.7609 - val_accuracy: 0.4458\n",
      "Epoch 14/100\n",
      "960/960 [==============================] - 1s 1ms/step - loss: 1.7942 - accuracy: 0.3552 - val_loss: 1.7339 - val_accuracy: 0.4708\n",
      "Epoch 15/100\n",
      "960/960 [==============================] - 1s 1ms/step - loss: 1.7646 - accuracy: 0.3688 - val_loss: 1.7268 - val_accuracy: 0.4542\n",
      "Epoch 16/100\n",
      "960/960 [==============================] - 1s 1ms/step - loss: 1.7000 - accuracy: 0.4052 - val_loss: 1.6554 - val_accuracy: 0.4667\n",
      "Epoch 17/100\n",
      "960/960 [==============================] - 1s 1ms/step - loss: 1.6807 - accuracy: 0.4073 - val_loss: 1.6029 - val_accuracy: 0.4917\n",
      "Epoch 18/100\n",
      "960/960 [==============================] - 1s 1ms/step - loss: 1.6275 - accuracy: 0.4302 - val_loss: 1.6088 - val_accuracy: 0.4875\n",
      "Epoch 19/100\n",
      "960/960 [==============================] - 1s 1ms/step - loss: 1.6676 - accuracy: 0.4177 - val_loss: 1.5595 - val_accuracy: 0.4667\n",
      "Epoch 20/100\n",
      "960/960 [==============================] - 1s 1ms/step - loss: 1.6341 - accuracy: 0.4479 - val_loss: 1.5179 - val_accuracy: 0.4917\n",
      "Epoch 21/100\n",
      "960/960 [==============================] - 1s 1ms/step - loss: 1.5921 - accuracy: 0.4646 - val_loss: 1.5228 - val_accuracy: 0.5167\n",
      "Epoch 22/100\n",
      "960/960 [==============================] - 1s 1ms/step - loss: 1.5817 - accuracy: 0.4625 - val_loss: 1.5203 - val_accuracy: 0.4750\n",
      "Epoch 23/100\n",
      "960/960 [==============================] - 1s 1ms/step - loss: 1.5691 - accuracy: 0.4542 - val_loss: 1.4982 - val_accuracy: 0.5208\n",
      "Epoch 24/100\n",
      "960/960 [==============================] - 1s 1ms/step - loss: 1.5211 - accuracy: 0.4604 - val_loss: 1.4883 - val_accuracy: 0.5208\n",
      "Epoch 25/100\n",
      "960/960 [==============================] - 1s 1ms/step - loss: 1.5256 - accuracy: 0.4854 - val_loss: 1.4316 - val_accuracy: 0.5292\n",
      "Epoch 26/100\n",
      "960/960 [==============================] - 1s 1ms/step - loss: 1.4475 - accuracy: 0.4844 - val_loss: 1.4023 - val_accuracy: 0.5042\n",
      "Epoch 27/100\n",
      "960/960 [==============================] - 1s 1ms/step - loss: 1.4323 - accuracy: 0.5125 - val_loss: 1.3929 - val_accuracy: 0.5708\n",
      "Epoch 28/100\n",
      "960/960 [==============================] - 1s 1ms/step - loss: 1.4264 - accuracy: 0.5052 - val_loss: 1.3882 - val_accuracy: 0.5625\n",
      "Epoch 29/100\n",
      "960/960 [==============================] - 1s 1ms/step - loss: 1.3780 - accuracy: 0.5344 - val_loss: 1.3809 - val_accuracy: 0.5333\n",
      "Epoch 30/100\n",
      "960/960 [==============================] - 1s 1ms/step - loss: 1.3357 - accuracy: 0.5365 - val_loss: 1.3627 - val_accuracy: 0.5500\n",
      "Epoch 31/100\n",
      "960/960 [==============================] - 1s 1ms/step - loss: 1.3298 - accuracy: 0.5406 - val_loss: 1.3642 - val_accuracy: 0.5250\n",
      "Epoch 32/100\n",
      "960/960 [==============================] - 1s 1ms/step - loss: 1.3251 - accuracy: 0.5500 - val_loss: 1.3376 - val_accuracy: 0.5625\n",
      "Epoch 33/100\n",
      "960/960 [==============================] - 1s 1ms/step - loss: 1.3215 - accuracy: 0.5417 - val_loss: 1.3963 - val_accuracy: 0.5500\n",
      "Epoch 34/100\n",
      "960/960 [==============================] - 1s 1ms/step - loss: 1.2813 - accuracy: 0.5698 - val_loss: 1.3553 - val_accuracy: 0.5667\n",
      "Epoch 35/100\n",
      "960/960 [==============================] - 1s 1ms/step - loss: 1.3007 - accuracy: 0.5469 - val_loss: 1.3780 - val_accuracy: 0.5708\n",
      "Epoch 36/100\n",
      "960/960 [==============================] - 1s 1ms/step - loss: 1.3065 - accuracy: 0.5646 - val_loss: 1.3634 - val_accuracy: 0.5667\n",
      "Epoch 37/100\n",
      "960/960 [==============================] - 1s 1ms/step - loss: 1.2586 - accuracy: 0.5604 - val_loss: 1.3524 - val_accuracy: 0.5708\n",
      "Epoch 38/100\n",
      "960/960 [==============================] - 1s 1ms/step - loss: 1.1993 - accuracy: 0.5917 - val_loss: 1.2886 - val_accuracy: 0.6000\n",
      "Epoch 39/100\n",
      "960/960 [==============================] - 1s 1ms/step - loss: 1.1798 - accuracy: 0.6000 - val_loss: 1.2948 - val_accuracy: 0.5708\n",
      "Epoch 40/100\n",
      "960/960 [==============================] - 1s 1ms/step - loss: 1.1497 - accuracy: 0.6156 - val_loss: 1.3092 - val_accuracy: 0.5708\n",
      "Epoch 41/100\n",
      "960/960 [==============================] - 1s 1ms/step - loss: 1.1723 - accuracy: 0.5917 - val_loss: 1.4022 - val_accuracy: 0.5750\n",
      "Epoch 42/100\n",
      "960/960 [==============================] - 1s 1ms/step - loss: 1.1293 - accuracy: 0.6073 - val_loss: 1.3199 - val_accuracy: 0.5750\n",
      "Epoch 43/100\n",
      "960/960 [==============================] - 1s 1ms/step - loss: 1.0786 - accuracy: 0.6250 - val_loss: 1.3146 - val_accuracy: 0.5542\n",
      "Epoch 44/100\n",
      "960/960 [==============================] - 1s 1ms/step - loss: 1.0711 - accuracy: 0.6281 - val_loss: 1.4064 - val_accuracy: 0.5875\n",
      "Epoch 45/100\n",
      "960/960 [==============================] - 1s 1ms/step - loss: 1.0643 - accuracy: 0.6302 - val_loss: 1.3798 - val_accuracy: 0.5875\n",
      "Epoch 46/100\n",
      "960/960 [==============================] - 1s 1ms/step - loss: 1.0417 - accuracy: 0.6479 - val_loss: 1.3789 - val_accuracy: 0.5708\n",
      "Epoch 47/100\n",
      "960/960 [==============================] - 1s 1ms/step - loss: 1.0176 - accuracy: 0.6625 - val_loss: 1.4242 - val_accuracy: 0.5542\n",
      "Epoch 48/100\n",
      "960/960 [==============================] - 1s 1ms/step - loss: 1.1208 - accuracy: 0.6115 - val_loss: 1.3829 - val_accuracy: 0.5958\n",
      "Epoch 49/100\n",
      "960/960 [==============================] - 1s 1ms/step - loss: 1.0638 - accuracy: 0.6479 - val_loss: 1.5316 - val_accuracy: 0.5500\n",
      "Epoch 50/100\n",
      "960/960 [==============================] - 1s 1ms/step - loss: 1.0740 - accuracy: 0.6417 - val_loss: 1.3169 - val_accuracy: 0.6042\n",
      "Epoch 51/100\n",
      "960/960 [==============================] - 1s 1ms/step - loss: 0.9740 - accuracy: 0.6615 - val_loss: 1.3238 - val_accuracy: 0.6167\n",
      "Epoch 52/100\n",
      "960/960 [==============================] - 1s 1ms/step - loss: 1.0208 - accuracy: 0.6604 - val_loss: 1.3487 - val_accuracy: 0.6042\n",
      "Epoch 53/100\n",
      "960/960 [==============================] - 1s 1ms/step - loss: 1.0400 - accuracy: 0.6438 - val_loss: 1.3820 - val_accuracy: 0.5833\n",
      "Epoch 54/100\n",
      "960/960 [==============================] - 1s 1ms/step - loss: 1.0559 - accuracy: 0.6271 - val_loss: 1.3262 - val_accuracy: 0.6333\n",
      "Epoch 55/100\n",
      "960/960 [==============================] - 1s 1ms/step - loss: 1.0297 - accuracy: 0.6562 - val_loss: 1.3553 - val_accuracy: 0.6292\n",
      "Epoch 56/100\n",
      "960/960 [==============================] - 1s 1ms/step - loss: 1.0207 - accuracy: 0.6562 - val_loss: 1.3364 - val_accuracy: 0.6083\n",
      "Epoch 57/100\n"
     ]
    },
    {
     "name": "stdout",
     "output_type": "stream",
     "text": [
      "960/960 [==============================] - 1s 1ms/step - loss: 1.0137 - accuracy: 0.6396 - val_loss: 1.2971 - val_accuracy: 0.5917\n",
      "Epoch 58/100\n",
      "960/960 [==============================] - 1s 1ms/step - loss: 0.9956 - accuracy: 0.6562 - val_loss: 1.3419 - val_accuracy: 0.6250\n",
      "Epoch 59/100\n",
      "960/960 [==============================] - 1s 1ms/step - loss: 0.9812 - accuracy: 0.6792 - val_loss: 1.3371 - val_accuracy: 0.6208\n",
      "Epoch 60/100\n",
      "960/960 [==============================] - 1s 1ms/step - loss: 1.0430 - accuracy: 0.6302 - val_loss: 1.4752 - val_accuracy: 0.5833\n",
      "Epoch 61/100\n",
      "960/960 [==============================] - 1s 1ms/step - loss: 0.9973 - accuracy: 0.6625 - val_loss: 1.4036 - val_accuracy: 0.6042\n",
      "Epoch 62/100\n",
      "960/960 [==============================] - 1s 1ms/step - loss: 1.0573 - accuracy: 0.6375 - val_loss: 1.2617 - val_accuracy: 0.6417\n",
      "Epoch 63/100\n",
      "960/960 [==============================] - 1s 1ms/step - loss: 1.0658 - accuracy: 0.6167 - val_loss: 1.3994 - val_accuracy: 0.6083\n",
      "Epoch 64/100\n",
      "960/960 [==============================] - 1s 1ms/step - loss: 1.0059 - accuracy: 0.6510 - val_loss: 1.4041 - val_accuracy: 0.5667\n",
      "Epoch 65/100\n",
      "960/960 [==============================] - 1s 1ms/step - loss: 1.0832 - accuracy: 0.6094 - val_loss: 1.2841 - val_accuracy: 0.6208\n",
      "Epoch 66/100\n",
      "960/960 [==============================] - 1s 1ms/step - loss: 1.0078 - accuracy: 0.6313 - val_loss: 1.3173 - val_accuracy: 0.6125\n",
      "Epoch 67/100\n",
      "960/960 [==============================] - 1s 1ms/step - loss: 1.0493 - accuracy: 0.6156 - val_loss: 1.2972 - val_accuracy: 0.6292\n",
      "Epoch 68/100\n",
      "960/960 [==============================] - 1s 1ms/step - loss: 1.0938 - accuracy: 0.5990 - val_loss: 1.3085 - val_accuracy: 0.6250\n",
      "Epoch 69/100\n",
      "960/960 [==============================] - 1s 1ms/step - loss: 1.0530 - accuracy: 0.6094 - val_loss: 1.3238 - val_accuracy: 0.6542\n",
      "Epoch 70/100\n",
      "960/960 [==============================] - 1s 1ms/step - loss: 1.0475 - accuracy: 0.6271 - val_loss: 1.3075 - val_accuracy: 0.6250\n",
      "Epoch 71/100\n",
      "960/960 [==============================] - 1s 1ms/step - loss: 1.0162 - accuracy: 0.6365 - val_loss: 1.3250 - val_accuracy: 0.6167\n",
      "Epoch 72/100\n",
      "960/960 [==============================] - 1s 2ms/step - loss: 0.9975 - accuracy: 0.6385 - val_loss: 1.3103 - val_accuracy: 0.6292\n",
      "Epoch 73/100\n",
      "960/960 [==============================] - 1s 1ms/step - loss: 0.9623 - accuracy: 0.6458 - val_loss: 1.3034 - val_accuracy: 0.6250\n",
      "Epoch 74/100\n",
      "960/960 [==============================] - 1s 2ms/step - loss: 0.9871 - accuracy: 0.6229 - val_loss: 1.3571 - val_accuracy: 0.6292\n",
      "Epoch 75/100\n",
      "960/960 [==============================] - 1s 1ms/step - loss: 0.9508 - accuracy: 0.6542 - val_loss: 1.3726 - val_accuracy: 0.6333\n",
      "Epoch 76/100\n",
      "960/960 [==============================] - 1s 1ms/step - loss: 0.9415 - accuracy: 0.6438 - val_loss: 1.4146 - val_accuracy: 0.6250\n",
      "Epoch 77/100\n",
      "960/960 [==============================] - 1s 1ms/step - loss: 0.9300 - accuracy: 0.6708 - val_loss: 1.3932 - val_accuracy: 0.6125\n",
      "Epoch 78/100\n",
      "960/960 [==============================] - 1s 1ms/step - loss: 0.9194 - accuracy: 0.6635 - val_loss: 1.2851 - val_accuracy: 0.6208\n",
      "Epoch 79/100\n",
      "960/960 [==============================] - 1s 1ms/step - loss: 0.9124 - accuracy: 0.6708 - val_loss: 1.3990 - val_accuracy: 0.6458\n",
      "Epoch 80/100\n",
      "960/960 [==============================] - 1s 1ms/step - loss: 0.8894 - accuracy: 0.6656 - val_loss: 1.3853 - val_accuracy: 0.6458\n",
      "Epoch 81/100\n",
      "960/960 [==============================] - 1s 1ms/step - loss: 0.8865 - accuracy: 0.6708 - val_loss: 1.4289 - val_accuracy: 0.6292\n",
      "Epoch 82/100\n",
      "960/960 [==============================] - 1s 1ms/step - loss: 0.8891 - accuracy: 0.6656 - val_loss: 1.3815 - val_accuracy: 0.6042\n",
      "Epoch 83/100\n",
      "960/960 [==============================] - 1s 1ms/step - loss: 0.8776 - accuracy: 0.6687 - val_loss: 1.3831 - val_accuracy: 0.6375\n",
      "Epoch 84/100\n",
      "960/960 [==============================] - 1s 1ms/step - loss: 0.9641 - accuracy: 0.6344 - val_loss: 1.3902 - val_accuracy: 0.6083\n",
      "Epoch 85/100\n",
      "960/960 [==============================] - 1s 1ms/step - loss: 0.8760 - accuracy: 0.6792 - val_loss: 1.3690 - val_accuracy: 0.6208\n",
      "Epoch 86/100\n",
      "960/960 [==============================] - 1s 1ms/step - loss: 0.9482 - accuracy: 0.6573 - val_loss: 1.5380 - val_accuracy: 0.6458\n",
      "Epoch 87/100\n",
      "960/960 [==============================] - 1s 1ms/step - loss: 0.9050 - accuracy: 0.6708 - val_loss: 1.4371 - val_accuracy: 0.5917\n",
      "Epoch 88/100\n",
      "960/960 [==============================] - 1s 1ms/step - loss: 0.8797 - accuracy: 0.6552 - val_loss: 1.6749 - val_accuracy: 0.6333\n",
      "Epoch 89/100\n",
      "960/960 [==============================] - 1s 1ms/step - loss: 0.8695 - accuracy: 0.6823 - val_loss: 1.4663 - val_accuracy: 0.6167\n",
      "Epoch 90/100\n",
      "960/960 [==============================] - 1s 1ms/step - loss: 0.9455 - accuracy: 0.6521 - val_loss: 1.4745 - val_accuracy: 0.5917\n",
      "Epoch 91/100\n",
      "960/960 [==============================] - 1s 1ms/step - loss: 0.9445 - accuracy: 0.6458 - val_loss: 1.5025 - val_accuracy: 0.6125\n",
      "Epoch 92/100\n",
      "960/960 [==============================] - 1s 1ms/step - loss: 0.8953 - accuracy: 0.6635 - val_loss: 1.4681 - val_accuracy: 0.6083\n",
      "Epoch 93/100\n",
      "960/960 [==============================] - 1s 1ms/step - loss: 0.9050 - accuracy: 0.6562 - val_loss: 1.7391 - val_accuracy: 0.6167\n",
      "Epoch 94/100\n",
      "960/960 [==============================] - 1s 1ms/step - loss: 1.0169 - accuracy: 0.6167 - val_loss: 1.3776 - val_accuracy: 0.6167\n",
      "Epoch 95/100\n",
      "960/960 [==============================] - 1s 1ms/step - loss: 0.9377 - accuracy: 0.6396 - val_loss: 1.5053 - val_accuracy: 0.6083\n",
      "Epoch 96/100\n",
      "960/960 [==============================] - 1s 1ms/step - loss: 0.9059 - accuracy: 0.6531 - val_loss: 1.4963 - val_accuracy: 0.6167\n",
      "Epoch 97/100\n",
      "960/960 [==============================] - 1s 1ms/step - loss: 0.9491 - accuracy: 0.6438 - val_loss: 1.4210 - val_accuracy: 0.6417\n",
      "Epoch 98/100\n",
      "960/960 [==============================] - 1s 1ms/step - loss: 0.9626 - accuracy: 0.6354 - val_loss: 1.4992 - val_accuracy: 0.6208\n",
      "Epoch 99/100\n",
      "960/960 [==============================] - 1s 1ms/step - loss: 1.0057 - accuracy: 0.6271 - val_loss: 1.4605 - val_accuracy: 0.5667\n",
      "Epoch 100/100\n",
      "960/960 [==============================] - 1s 1ms/step - loss: 1.0140 - accuracy: 0.6156 - val_loss: 1.5149 - val_accuracy: 0.5875\n"
     ]
    },
    {
     "data": {
      "text/plain": [
       "<keras.callbacks.callbacks.History at 0x7f90f62a5ac8>"
      ]
     },
     "execution_count": 64,
     "metadata": {},
     "output_type": "execute_result"
    }
   ],
   "source": [
    "model.fit(X_train, y_train, epochs=100, validation_data=(X_test, y_test), callbacks=[mcp_save], batch_size=128)"
   ]
  },
  {
   "cell_type": "code",
   "execution_count": null,
   "metadata": {},
   "outputs": [],
   "source": []
  }
 ],
 "metadata": {
  "kernelspec": {
   "display_name": "Python 3",
   "language": "python",
   "name": "python3"
  },
  "language_info": {
   "codemirror_mode": {
    "name": "ipython",
    "version": 3
   },
   "file_extension": ".py",
   "mimetype": "text/x-python",
   "name": "python",
   "nbconvert_exporter": "python",
   "pygments_lexer": "ipython3",
   "version": "3.6.8"
  }
 },
 "nbformat": 4,
 "nbformat_minor": 4
}
